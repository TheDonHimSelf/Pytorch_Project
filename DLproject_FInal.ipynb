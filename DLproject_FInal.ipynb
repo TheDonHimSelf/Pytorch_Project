{
  "cells": [
    {
      "cell_type": "markdown",
      "id": "92d3f695",
      "metadata": {},
      "source": [
        "- Mohammed Abdullah Ebrahim 202106206\n",
        "- Yahya Zaqad 202110652\n",
        "- Saeed Al Ansari 202209377\n",
        "- Ghanim Masoud 202004603"
      ]
    },
    {
      "cell_type": "markdown",
      "id": "XFRxxNLi0md1",
      "metadata": {
        "id": "XFRxxNLi0md1"
      },
      "source": [
        "Saving all the requirments :"
      ]
    },
    {
      "cell_type": "code",
      "execution_count": 39,
      "id": "bddwLzsv0ayb",
      "metadata": {
        "id": "bddwLzsv0ayb"
      },
      "outputs": [],
      "source": [
        "!pip freeze > requirements.txt"
      ]
    },
    {
      "cell_type": "markdown",
      "id": "Ppeg_sRT2mCZ",
      "metadata": {
        "id": "Ppeg_sRT2mCZ"
      },
      "source": [
        "###  Random Seeds\n",
        "- Python random seed: 42\n",
        "- NumPy seed: 42\n",
        "- TensorFlow seed: 42\n",
        "\n",
        "These ensure consistent model training and evaluation.\n",
        "\n",
        "###  Hyperparameters (Best Configuration)\n",
        "- Vocabulary Size: 10,000\n",
        "- Sequence Length (Padding): 256\n",
        "- Embedding Dimension: 16 (fixed)\n",
        "- Dense Units: 32\n",
        "- Optimizer: Adam\n",
        "- Batch Size: 256\n",
        "- Epochs: up to 20\n",
        "- Early Stopping Patience: 3\n",
        "\n",
        "###  Dependencies\n",
        "\n",
        "Required Python packages are listed in `requirements.txt`:\n",
        "\n",
        "\n",
        "- numpy\n",
        "- tensorflow==2.18.0\n",
        "- scikit-learn\n",
        "- matplotlib\n",
        "- pandas\n",
        "\n",
        "### Hardware used\n",
        "- Processor: Apple M1 (MacBook Air)\n",
        "- RAM: 8 GB\n",
        "- Environment: Google Colab (with T4 GPU) / Jupyter Notebook on local MacBook Air\n",
        "- GPU: Google Colab (T4 GPU)"
      ]
    },
    {
      "cell_type": "markdown",
      "id": "b89a3f43",
      "metadata": {
        "id": "b89a3f43"
      },
      "source": [
        " IMDB Sentiment Analysis Project\n",
        "\n",
        "Data prep, model training, evaluation, comparison, visualization\n",
        "\n",
        " -------------------------\n",
        " 1. IMPORT LIBRARIES\n",
        " -------------------------"
      ]
    },
    {
      "cell_type": "code",
      "execution_count": 52,
      "id": "38938abc",
      "metadata": {
        "id": "38938abc"
      },
      "outputs": [],
      "source": [
        "import numpy as np\n",
        "import tensorflow as tf\n",
        "import random\n",
        "import matplotlib.pyplot as plt\n",
        "import pandas as pd\n",
        "from tensorflow.keras import layers, models\n",
        "from sklearn.metrics import classification_report, confusion_matrix, ConfusionMatrixDisplay\n",
        "from tensorflow.keras.datasets import imdb\n",
        "from tensorflow.keras.preprocessing.sequence import pad_sequences\n",
        "from tensorflow.keras.callbacks import EarlyStopping\n",
        "from sklearn.model_selection import train_test_split\n",
        "from sklearn.linear_model import LogisticRegression\n",
        "from sklearn.feature_extraction.text import CountVectorizer\n",
        "from sklearn.naive_bayes import MultinomialNB\n",
        "from sklearn.tree import DecisionTreeClassifier\n",
        "from sklearn.metrics import accuracy_score"
      ]
    },
    {
      "cell_type": "markdown",
      "id": "33e808d7",
      "metadata": {
        "id": "33e808d7"
      },
      "source": [
        " -------------------------\n",
        " 2. REPRODUCIBILITY\n",
        " -------------------------"
      ]
    },
    {
      "cell_type": "code",
      "execution_count": 25,
      "id": "cce40a8f",
      "metadata": {
        "id": "cce40a8f"
      },
      "outputs": [],
      "source": [
        "SEED = 42\n",
        "np.random.seed(SEED)\n",
        "tf.random.set_seed(SEED)\n",
        "random.seed(SEED)\n"
      ]
    },
    {
      "cell_type": "markdown",
      "id": "19fd5ef2",
      "metadata": {
        "id": "19fd5ef2"
      },
      "source": [
        " -------------------------\n",
        " 3. LOAD DATA\n",
        " -------------------------"
      ]
    },
    {
      "cell_type": "code",
      "execution_count": null,
      "id": "7e55b3c9",
      "metadata": {
        "id": "7e55b3c9"
      },
      "outputs": [],
      "source": [
        "# Load data\n",
        "VOCAB_SIZE = 10000  # here we chose the most requent words (10000)\n",
        "MAXLEN = 256  # so we padd the reviews less than 256 and truncate those more than 256\n",
        "\n",
        "(train_data, train_labels), (test_data, test_labels) = imdb.load_data(num_words=VOCAB_SIZE)#no tokenization needed already tokenized\n",
        "\n",
        "train_data = pad_sequences(train_data, maxlen=MAXLEN)\n",
        "test_data = pad_sequences(test_data, maxlen=MAXLEN)\n",
        "\n",
        "# 0.8 of size for training, 0.2 for testing\n",
        "train_data, val_data, train_labels, val_labels = train_test_split(train_data, train_labels, test_size=0.2, random_state=42)"
      ]
    },
    {
      "cell_type": "markdown",
      "id": "931ca9ed",
      "metadata": {
        "id": "931ca9ed"
      },
      "source": [
        " -------------------------\n",
        " 4. BUILD MODEL\n",
        " -------------------------"
      ]
    },
    {
      "cell_type": "code",
      "execution_count": 27,
      "id": "710ce26c",
      "metadata": {
        "colab": {
          "base_uri": "https://localhost:8080/"
        },
        "id": "710ce26c",
        "outputId": "67a3a40c-ccb9-48ed-97e0-e9ef31c74637"
      },
      "outputs": [
        {
          "name": "stdout",
          "output_type": "stream",
          "text": [
            "\n",
            "Training model with dense_units=16, optimizer=adam, batch_size=256\n",
            "Epoch 1/20\n"
          ]
        },
        {
          "name": "stderr",
          "output_type": "stream",
          "text": [
            "/usr/local/lib/python3.11/dist-packages/keras/src/layers/core/embedding.py:90: UserWarning: Argument `input_length` is deprecated. Just remove it.\n",
            "  warnings.warn(\n"
          ]
        },
        {
          "name": "stdout",
          "output_type": "stream",
          "text": [
            "79/79 - 3s - 38ms/step - accuracy: 0.5987 - loss: 0.6860 - val_accuracy: 0.6920 - val_loss: 0.6683\n",
            "Epoch 2/20\n",
            "79/79 - 0s - 5ms/step - accuracy: 0.7524 - loss: 0.6264 - val_accuracy: 0.7968 - val_loss: 0.5746\n",
            "Epoch 3/20\n",
            "79/79 - 1s - 7ms/step - accuracy: 0.8200 - loss: 0.5126 - val_accuracy: 0.8408 - val_loss: 0.4622\n",
            "Epoch 4/20\n",
            "79/79 - 0s - 4ms/step - accuracy: 0.8525 - loss: 0.4122 - val_accuracy: 0.8524 - val_loss: 0.3880\n",
            "Epoch 5/20\n",
            "79/79 - 0s - 4ms/step - accuracy: 0.8723 - loss: 0.3493 - val_accuracy: 0.8642 - val_loss: 0.3468\n",
            "Epoch 6/20\n",
            "79/79 - 0s - 4ms/step - accuracy: 0.8863 - loss: 0.3091 - val_accuracy: 0.8734 - val_loss: 0.3214\n",
            "Epoch 7/20\n",
            "79/79 - 0s - 4ms/step - accuracy: 0.8967 - loss: 0.2808 - val_accuracy: 0.8792 - val_loss: 0.3049\n",
            "Epoch 8/20\n",
            "79/79 - 0s - 4ms/step - accuracy: 0.9050 - loss: 0.2591 - val_accuracy: 0.8836 - val_loss: 0.2938\n",
            "Epoch 9/20\n",
            "79/79 - 1s - 7ms/step - accuracy: 0.9122 - loss: 0.2413 - val_accuracy: 0.8842 - val_loss: 0.2861\n",
            "Epoch 10/20\n",
            "79/79 - 0s - 5ms/step - accuracy: 0.9178 - loss: 0.2263 - val_accuracy: 0.8864 - val_loss: 0.2807\n",
            "Epoch 11/20\n",
            "79/79 - 0s - 4ms/step - accuracy: 0.9226 - loss: 0.2132 - val_accuracy: 0.8870 - val_loss: 0.2770\n",
            "Epoch 12/20\n",
            "79/79 - 0s - 4ms/step - accuracy: 0.9276 - loss: 0.2015 - val_accuracy: 0.8872 - val_loss: 0.2746\n",
            "Epoch 13/20\n",
            "79/79 - 0s - 4ms/step - accuracy: 0.9321 - loss: 0.1909 - val_accuracy: 0.8884 - val_loss: 0.2733\n",
            "Epoch 14/20\n",
            "79/79 - 0s - 4ms/step - accuracy: 0.9364 - loss: 0.1812 - val_accuracy: 0.8878 - val_loss: 0.2728\n",
            "Epoch 15/20\n",
            "79/79 - 0s - 6ms/step - accuracy: 0.9398 - loss: 0.1723 - val_accuracy: 0.8880 - val_loss: 0.2732\n",
            "Epoch 16/20\n",
            "79/79 - 1s - 7ms/step - accuracy: 0.9433 - loss: 0.1641 - val_accuracy: 0.8878 - val_loss: 0.2741\n",
            "Epoch 17/20\n",
            "79/79 - 0s - 6ms/step - accuracy: 0.9461 - loss: 0.1564 - val_accuracy: 0.8872 - val_loss: 0.2756\n",
            "Epoch 17: early stopping\n",
            "Restoring model weights from the end of the best epoch: 14.\n",
            "Best Validation Accuracy in this run: 0.8884\n",
            "\n",
            "Training model with dense_units=16, optimizer=adam, batch_size=512\n",
            "Epoch 1/20\n",
            "40/40 - 3s - 78ms/step - accuracy: 0.5844 - loss: 0.6897 - val_accuracy: 0.6446 - val_loss: 0.6828\n",
            "Epoch 2/20\n",
            "40/40 - 1s - 23ms/step - accuracy: 0.6849 - loss: 0.6745 - val_accuracy: 0.7242 - val_loss: 0.6612\n",
            "Epoch 3/20\n",
            "40/40 - 0s - 5ms/step - accuracy: 0.7379 - loss: 0.6445 - val_accuracy: 0.7650 - val_loss: 0.6237\n",
            "Epoch 4/20\n",
            "40/40 - 0s - 5ms/step - accuracy: 0.7689 - loss: 0.5982 - val_accuracy: 0.7886 - val_loss: 0.5720\n",
            "Epoch 5/20\n",
            "40/40 - 0s - 7ms/step - accuracy: 0.8002 - loss: 0.5410 - val_accuracy: 0.8122 - val_loss: 0.5152\n",
            "Epoch 6/20\n",
            "40/40 - 0s - 4ms/step - accuracy: 0.8239 - loss: 0.4831 - val_accuracy: 0.8294 - val_loss: 0.4652\n",
            "Epoch 7/20\n",
            "40/40 - 0s - 8ms/step - accuracy: 0.8450 - loss: 0.4322 - val_accuracy: 0.8434 - val_loss: 0.4231\n",
            "Epoch 8/20\n",
            "40/40 - 0s - 5ms/step - accuracy: 0.8579 - loss: 0.3919 - val_accuracy: 0.8504 - val_loss: 0.3915\n",
            "Epoch 9/20\n",
            "40/40 - 0s - 7ms/step - accuracy: 0.8673 - loss: 0.3603 - val_accuracy: 0.8590 - val_loss: 0.3673\n",
            "Epoch 10/20\n",
            "40/40 - 0s - 6ms/step - accuracy: 0.8751 - loss: 0.3352 - val_accuracy: 0.8654 - val_loss: 0.3481\n",
            "Epoch 11/20\n",
            "40/40 - 0s - 5ms/step - accuracy: 0.8834 - loss: 0.3146 - val_accuracy: 0.8684 - val_loss: 0.3329\n",
            "Epoch 12/20\n",
            "40/40 - 0s - 8ms/step - accuracy: 0.8902 - loss: 0.2973 - val_accuracy: 0.8720 - val_loss: 0.3210\n",
            "Epoch 13/20\n",
            "40/40 - 0s - 7ms/step - accuracy: 0.8954 - loss: 0.2825 - val_accuracy: 0.8750 - val_loss: 0.3114\n",
            "Epoch 14/20\n",
            "40/40 - 0s - 8ms/step - accuracy: 0.8993 - loss: 0.2696 - val_accuracy: 0.8756 - val_loss: 0.3037\n",
            "Epoch 15/20\n",
            "40/40 - 0s - 5ms/step - accuracy: 0.9046 - loss: 0.2581 - val_accuracy: 0.8768 - val_loss: 0.2973\n",
            "Epoch 16/20\n",
            "40/40 - 0s - 7ms/step - accuracy: 0.9079 - loss: 0.2478 - val_accuracy: 0.8790 - val_loss: 0.2920\n",
            "Epoch 17/20\n",
            "40/40 - 0s - 7ms/step - accuracy: 0.9116 - loss: 0.2384 - val_accuracy: 0.8824 - val_loss: 0.2877\n",
            "Epoch 18/20\n",
            "40/40 - 0s - 8ms/step - accuracy: 0.9152 - loss: 0.2298 - val_accuracy: 0.8848 - val_loss: 0.2841\n",
            "Epoch 19/20\n",
            "40/40 - 0s - 6ms/step - accuracy: 0.9186 - loss: 0.2218 - val_accuracy: 0.8860 - val_loss: 0.2812\n",
            "Epoch 20/20\n",
            "40/40 - 0s - 5ms/step - accuracy: 0.9212 - loss: 0.2144 - val_accuracy: 0.8868 - val_loss: 0.2789\n",
            "Restoring model weights from the end of the best epoch: 20.\n",
            "Best Validation Accuracy in this run: 0.8868\n",
            "\n",
            "Training model with dense_units=16, optimizer=rmsprop, batch_size=256\n",
            "Epoch 1/20\n",
            "79/79 - 18s - 222ms/step - accuracy: 0.5113 - loss: 0.6930 - val_accuracy: 0.5476 - val_loss: 0.6920\n",
            "Epoch 2/20\n",
            "79/79 - 12s - 157ms/step - accuracy: 0.5588 - loss: 0.6920 - val_accuracy: 0.5632 - val_loss: 0.6906\n",
            "Epoch 3/20\n",
            "79/79 - 10s - 130ms/step - accuracy: 0.5781 - loss: 0.6901 - val_accuracy: 0.5762 - val_loss: 0.6878\n",
            "Epoch 4/20\n",
            "79/79 - 8s - 106ms/step - accuracy: 0.5941 - loss: 0.6867 - val_accuracy: 0.5802 - val_loss: 0.6826\n",
            "Epoch 5/20\n",
            "79/79 - 10s - 130ms/step - accuracy: 0.6121 - loss: 0.6806 - val_accuracy: 0.5974 - val_loss: 0.6749\n",
            "Epoch 6/20\n",
            "79/79 - 10s - 129ms/step - accuracy: 0.6330 - loss: 0.6714 - val_accuracy: 0.6218 - val_loss: 0.6636\n",
            "Epoch 7/20\n",
            "79/79 - 8s - 105ms/step - accuracy: 0.6555 - loss: 0.6576 - val_accuracy: 0.6460 - val_loss: 0.6475\n",
            "Epoch 8/20\n",
            "79/79 - 10s - 132ms/step - accuracy: 0.6761 - loss: 0.6390 - val_accuracy: 0.6732 - val_loss: 0.6269\n",
            "Epoch 9/20\n",
            "79/79 - 10s - 127ms/step - accuracy: 0.6953 - loss: 0.6165 - val_accuracy: 0.6974 - val_loss: 0.6028\n",
            "Epoch 10/20\n",
            "79/79 - 8s - 107ms/step - accuracy: 0.7133 - loss: 0.5916 - val_accuracy: 0.7230 - val_loss: 0.5771\n",
            "Epoch 11/20\n",
            "79/79 - 9s - 108ms/step - accuracy: 0.7295 - loss: 0.5661 - val_accuracy: 0.7442 - val_loss: 0.5518\n",
            "Epoch 12/20\n",
            "79/79 - 10s - 133ms/step - accuracy: 0.7434 - loss: 0.5419 - val_accuracy: 0.7602 - val_loss: 0.5284\n",
            "Epoch 13/20\n",
            "79/79 - 10s - 123ms/step - accuracy: 0.7503 - loss: 0.5249 - val_accuracy: 0.7568 - val_loss: 0.5151\n",
            "Epoch 14/20\n",
            "79/79 - 8s - 104ms/step - accuracy: 0.7485 - loss: 0.5177 - val_accuracy: 0.7644 - val_loss: 0.5003\n",
            "Epoch 15/20\n",
            "79/79 - 10s - 131ms/step - accuracy: 0.7525 - loss: 0.5086 - val_accuracy: 0.7710 - val_loss: 0.4883\n",
            "Epoch 16/20\n",
            "79/79 - 10s - 131ms/step - accuracy: 0.7570 - loss: 0.4996 - val_accuracy: 0.7744 - val_loss: 0.4777\n",
            "Epoch 17/20\n",
            "79/79 - 8s - 105ms/step - accuracy: 0.7624 - loss: 0.4906 - val_accuracy: 0.7774 - val_loss: 0.4682\n",
            "Epoch 18/20\n",
            "79/79 - 8s - 104ms/step - accuracy: 0.7681 - loss: 0.4818 - val_accuracy: 0.7814 - val_loss: 0.4594\n",
            "Epoch 19/20\n",
            "79/79 - 10s - 132ms/step - accuracy: 0.7732 - loss: 0.4733 - val_accuracy: 0.7866 - val_loss: 0.4515\n",
            "Epoch 20/20\n",
            "79/79 - 10s - 129ms/step - accuracy: 0.7785 - loss: 0.4650 - val_accuracy: 0.7886 - val_loss: 0.4442\n",
            "Restoring model weights from the end of the best epoch: 20.\n",
            "Best Validation Accuracy in this run: 0.7886\n",
            "\n",
            "Training model with dense_units=16, optimizer=rmsprop, batch_size=512\n",
            "Epoch 1/20\n",
            "40/40 - 16s - 409ms/step - accuracy: 0.5176 - loss: 0.6927 - val_accuracy: 0.5538 - val_loss: 0.6916\n",
            "Epoch 2/20\n",
            "40/40 - 14s - 340ms/step - accuracy: 0.5673 - loss: 0.6910 - val_accuracy: 0.5732 - val_loss: 0.6892\n",
            "Epoch 3/20\n",
            "40/40 - 10s - 250ms/step - accuracy: 0.5919 - loss: 0.6882 - val_accuracy: 0.5904 - val_loss: 0.6856\n",
            "Epoch 4/20\n",
            "40/40 - 8s - 209ms/step - accuracy: 0.6112 - loss: 0.6840 - val_accuracy: 0.6102 - val_loss: 0.6803\n",
            "Epoch 5/20\n",
            "40/40 - 10s - 259ms/step - accuracy: 0.6269 - loss: 0.6778 - val_accuracy: 0.6326 - val_loss: 0.6729\n",
            "Epoch 6/20\n",
            "40/40 - 10s - 256ms/step - accuracy: 0.6417 - loss: 0.6693 - val_accuracy: 0.6502 - val_loss: 0.6633\n",
            "Epoch 7/20\n",
            "40/40 - 8s - 209ms/step - accuracy: 0.6577 - loss: 0.6585 - val_accuracy: 0.6666 - val_loss: 0.6513\n",
            "Epoch 8/20\n",
            "40/40 - 8s - 210ms/step - accuracy: 0.6722 - loss: 0.6454 - val_accuracy: 0.6796 - val_loss: 0.6372\n",
            "Epoch 9/20\n",
            "40/40 - 8s - 210ms/step - accuracy: 0.6852 - loss: 0.6306 - val_accuracy: 0.6978 - val_loss: 0.6213\n",
            "Epoch 10/20\n",
            "40/40 - 8s - 212ms/step - accuracy: 0.6910 - loss: 0.6168 - val_accuracy: 0.7230 - val_loss: 0.6045\n",
            "Epoch 11/20\n",
            "40/40 - 8s - 209ms/step - accuracy: 0.6914 - loss: 0.6070 - val_accuracy: 0.7348 - val_loss: 0.5892\n",
            "Epoch 12/20\n",
            "40/40 - 10s - 259ms/step - accuracy: 0.6869 - loss: 0.6015 - val_accuracy: 0.7512 - val_loss: 0.5762\n",
            "Epoch 13/20\n",
            "40/40 - 10s - 257ms/step - accuracy: 0.6934 - loss: 0.5935 - val_accuracy: 0.7594 - val_loss: 0.5641\n",
            "Epoch 14/20\n",
            "40/40 - 10s - 255ms/step - accuracy: 0.7074 - loss: 0.5821 - val_accuracy: 0.7608 - val_loss: 0.5529\n",
            "Epoch 15/20\n",
            "40/40 - 8s - 210ms/step - accuracy: 0.7085 - loss: 0.5709 - val_accuracy: 0.7292 - val_loss: 0.5528\n",
            "Epoch 16/20\n",
            "40/40 - 10s - 258ms/step - accuracy: 0.7129 - loss: 0.5616 - val_accuracy: 0.7416 - val_loss: 0.5413\n",
            "Epoch 17/20\n",
            "40/40 - 10s - 256ms/step - accuracy: 0.7179 - loss: 0.5535 - val_accuracy: 0.7482 - val_loss: 0.5326\n",
            "Epoch 18/20\n",
            "40/40 - 8s - 209ms/step - accuracy: 0.7237 - loss: 0.5451 - val_accuracy: 0.7590 - val_loss: 0.5220\n",
            "Epoch 19/20\n",
            "40/40 - 10s - 257ms/step - accuracy: 0.7283 - loss: 0.5365 - val_accuracy: 0.7664 - val_loss: 0.5132\n",
            "Epoch 20/20\n",
            "40/40 - 8s - 209ms/step - accuracy: 0.7309 - loss: 0.5283 - val_accuracy: 0.7762 - val_loss: 0.5023\n",
            "Restoring model weights from the end of the best epoch: 20.\n",
            "Best Validation Accuracy in this run: 0.7762\n",
            "\n",
            "Training model with dense_units=32, optimizer=adam, batch_size=256\n",
            "Epoch 1/20\n",
            "79/79 - 3s - 35ms/step - accuracy: 0.6265 - loss: 0.6827 - val_accuracy: 0.7152 - val_loss: 0.6576\n",
            "Epoch 2/20\n",
            "79/79 - 0s - 4ms/step - accuracy: 0.7674 - loss: 0.5957 - val_accuracy: 0.8134 - val_loss: 0.5214\n",
            "Epoch 3/20\n",
            "79/79 - 0s - 4ms/step - accuracy: 0.8346 - loss: 0.4517 - val_accuracy: 0.8452 - val_loss: 0.4051\n",
            "Epoch 4/20\n",
            "79/79 - 0s - 4ms/step - accuracy: 0.8644 - loss: 0.3601 - val_accuracy: 0.8664 - val_loss: 0.3463\n",
            "Epoch 5/20\n",
            "79/79 - 0s - 4ms/step - accuracy: 0.8824 - loss: 0.3090 - val_accuracy: 0.8726 - val_loss: 0.3173\n",
            "Epoch 6/20\n",
            "79/79 - 0s - 4ms/step - accuracy: 0.8966 - loss: 0.2761 - val_accuracy: 0.8780 - val_loss: 0.3010\n",
            "Epoch 7/20\n",
            "79/79 - 0s - 4ms/step - accuracy: 0.9061 - loss: 0.2518 - val_accuracy: 0.8812 - val_loss: 0.2911\n",
            "Epoch 8/20\n",
            "79/79 - 0s - 4ms/step - accuracy: 0.9142 - loss: 0.2325 - val_accuracy: 0.8814 - val_loss: 0.2848\n",
            "Epoch 9/20\n",
            "79/79 - 0s - 4ms/step - accuracy: 0.9209 - loss: 0.2163 - val_accuracy: 0.8814 - val_loss: 0.2810\n",
            "Epoch 10/20\n",
            "79/79 - 0s - 3ms/step - accuracy: 0.9263 - loss: 0.2022 - val_accuracy: 0.8816 - val_loss: 0.2789\n",
            "Epoch 11/20\n",
            "79/79 - 0s - 4ms/step - accuracy: 0.9320 - loss: 0.1898 - val_accuracy: 0.8828 - val_loss: 0.2782\n",
            "Epoch 12/20\n",
            "79/79 - 0s - 4ms/step - accuracy: 0.9370 - loss: 0.1786 - val_accuracy: 0.8842 - val_loss: 0.2787\n",
            "Epoch 13/20\n",
            "79/79 - 0s - 3ms/step - accuracy: 0.9413 - loss: 0.1685 - val_accuracy: 0.8836 - val_loss: 0.2802\n",
            "Epoch 14/20\n",
            "79/79 - 0s - 4ms/step - accuracy: 0.9445 - loss: 0.1592 - val_accuracy: 0.8842 - val_loss: 0.2824\n",
            "Epoch 14: early stopping\n",
            "Restoring model weights from the end of the best epoch: 11.\n",
            "Best Validation Accuracy in this run: 0.8842\n",
            "\n",
            "Training model with dense_units=32, optimizer=adam, batch_size=512\n",
            "Epoch 1/20\n",
            "40/40 - 3s - 80ms/step - accuracy: 0.6010 - loss: 0.6902 - val_accuracy: 0.6890 - val_loss: 0.6836\n",
            "Epoch 2/20\n",
            "40/40 - 1s - 14ms/step - accuracy: 0.7012 - loss: 0.6705 - val_accuracy: 0.7536 - val_loss: 0.6500\n",
            "Epoch 3/20\n",
            "40/40 - 0s - 8ms/step - accuracy: 0.7510 - loss: 0.6214 - val_accuracy: 0.7836 - val_loss: 0.5864\n",
            "Epoch 4/20\n",
            "40/40 - 0s - 7ms/step - accuracy: 0.7986 - loss: 0.5464 - val_accuracy: 0.8134 - val_loss: 0.5119\n",
            "Epoch 5/20\n",
            "40/40 - 0s - 7ms/step - accuracy: 0.8332 - loss: 0.4665 - val_accuracy: 0.8378 - val_loss: 0.4410\n",
            "Epoch 6/20\n",
            "40/40 - 0s - 8ms/step - accuracy: 0.8539 - loss: 0.4020 - val_accuracy: 0.8526 - val_loss: 0.3897\n",
            "Epoch 7/20\n",
            "40/40 - 0s - 8ms/step - accuracy: 0.8676 - loss: 0.3561 - val_accuracy: 0.8626 - val_loss: 0.3554\n",
            "Epoch 8/20\n",
            "40/40 - 0s - 5ms/step - accuracy: 0.8785 - loss: 0.3225 - val_accuracy: 0.8692 - val_loss: 0.3326\n",
            "Epoch 9/20\n",
            "40/40 - 0s - 7ms/step - accuracy: 0.8882 - loss: 0.2971 - val_accuracy: 0.8740 - val_loss: 0.3166\n",
            "Epoch 10/20\n",
            "40/40 - 0s - 8ms/step - accuracy: 0.8964 - loss: 0.2768 - val_accuracy: 0.8768 - val_loss: 0.3048\n",
            "Epoch 11/20\n",
            "40/40 - 0s - 5ms/step - accuracy: 0.9026 - loss: 0.2601 - val_accuracy: 0.8796 - val_loss: 0.2961\n",
            "Epoch 12/20\n",
            "40/40 - 0s - 7ms/step - accuracy: 0.9084 - loss: 0.2458 - val_accuracy: 0.8804 - val_loss: 0.2897\n",
            "Epoch 13/20\n",
            "40/40 - 0s - 8ms/step - accuracy: 0.9132 - loss: 0.2333 - val_accuracy: 0.8846 - val_loss: 0.2847\n",
            "Epoch 14/20\n",
            "40/40 - 0s - 7ms/step - accuracy: 0.9178 - loss: 0.2221 - val_accuracy: 0.8858 - val_loss: 0.2809\n",
            "Epoch 15/20\n",
            "40/40 - 0s - 5ms/step - accuracy: 0.9223 - loss: 0.2120 - val_accuracy: 0.8860 - val_loss: 0.2781\n",
            "Epoch 16/20\n",
            "40/40 - 0s - 7ms/step - accuracy: 0.9262 - loss: 0.2028 - val_accuracy: 0.8866 - val_loss: 0.2760\n",
            "Epoch 17/20\n",
            "40/40 - 0s - 5ms/step - accuracy: 0.9297 - loss: 0.1943 - val_accuracy: 0.8860 - val_loss: 0.2746\n",
            "Epoch 18/20\n",
            "40/40 - 0s - 5ms/step - accuracy: 0.9330 - loss: 0.1863 - val_accuracy: 0.8870 - val_loss: 0.2738\n",
            "Epoch 19/20\n",
            "40/40 - 0s - 5ms/step - accuracy: 0.9366 - loss: 0.1789 - val_accuracy: 0.8874 - val_loss: 0.2735\n",
            "Epoch 20/20\n",
            "40/40 - 0s - 5ms/step - accuracy: 0.9394 - loss: 0.1719 - val_accuracy: 0.8882 - val_loss: 0.2737\n",
            "Restoring model weights from the end of the best epoch: 19.\n",
            "Best Validation Accuracy in this run: 0.8882\n",
            "\n",
            "Training model with dense_units=32, optimizer=rmsprop, batch_size=256\n",
            "Epoch 1/20\n",
            "79/79 - 16s - 202ms/step - accuracy: 0.5217 - loss: 0.6928 - val_accuracy: 0.5484 - val_loss: 0.6920\n",
            "Epoch 2/20\n",
            "79/79 - 8s - 106ms/step - accuracy: 0.5562 - loss: 0.6916 - val_accuracy: 0.5816 - val_loss: 0.6900\n",
            "Epoch 3/20\n",
            "79/79 - 8s - 105ms/step - accuracy: 0.5811 - loss: 0.6889 - val_accuracy: 0.6038 - val_loss: 0.6856\n",
            "Epoch 4/20\n",
            "79/79 - 8s - 106ms/step - accuracy: 0.6064 - loss: 0.6826 - val_accuracy: 0.6234 - val_loss: 0.6760\n",
            "Epoch 5/20\n",
            "79/79 - 10s - 129ms/step - accuracy: 0.6367 - loss: 0.6695 - val_accuracy: 0.6470 - val_loss: 0.6583\n",
            "Epoch 6/20\n",
            "79/79 - 10s - 129ms/step - accuracy: 0.6623 - loss: 0.6472 - val_accuracy: 0.6762 - val_loss: 0.6316\n",
            "Epoch 7/20\n",
            "79/79 - 10s - 130ms/step - accuracy: 0.6924 - loss: 0.6170 - val_accuracy: 0.7076 - val_loss: 0.5975\n",
            "Epoch 8/20\n",
            "79/79 - 10s - 129ms/step - accuracy: 0.7139 - loss: 0.5824 - val_accuracy: 0.7374 - val_loss: 0.5619\n",
            "Epoch 9/20\n",
            "79/79 - 8s - 103ms/step - accuracy: 0.7265 - loss: 0.5572 - val_accuracy: 0.7338 - val_loss: 0.5402\n",
            "Epoch 10/20\n",
            "79/79 - 8s - 103ms/step - accuracy: 0.7232 - loss: 0.5480 - val_accuracy: 0.7488 - val_loss: 0.5189\n",
            "Epoch 11/20\n",
            "79/79 - 10s - 131ms/step - accuracy: 0.7311 - loss: 0.5350 - val_accuracy: 0.7572 - val_loss: 0.5037\n",
            "Epoch 12/20\n",
            "79/79 - 8s - 102ms/step - accuracy: 0.7413 - loss: 0.5189 - val_accuracy: 0.7800 - val_loss: 0.4817\n",
            "Epoch 13/20\n",
            "79/79 - 8s - 103ms/step - accuracy: 0.7657 - loss: 0.4933 - val_accuracy: 0.7970 - val_loss: 0.4594\n",
            "Epoch 14/20\n",
            "79/79 - 10s - 130ms/step - accuracy: 0.7725 - loss: 0.4797 - val_accuracy: 0.7974 - val_loss: 0.4496\n",
            "Epoch 15/20\n",
            "79/79 - 10s - 129ms/step - accuracy: 0.7734 - loss: 0.4720 - val_accuracy: 0.7928 - val_loss: 0.4454\n",
            "Epoch 16/20\n",
            "79/79 - 8s - 102ms/step - accuracy: 0.7897 - loss: 0.4565 - val_accuracy: 0.8166 - val_loss: 0.4243\n",
            "Epoch 17/20\n",
            "79/79 - 8s - 103ms/step - accuracy: 0.7949 - loss: 0.4473 - val_accuracy: 0.8140 - val_loss: 0.4191\n",
            "Epoch 18/20\n",
            "79/79 - 8s - 103ms/step - accuracy: 0.7890 - loss: 0.4406 - val_accuracy: 0.8056 - val_loss: 0.4182\n",
            "Epoch 19/20\n",
            "79/79 - 8s - 103ms/step - accuracy: 0.7978 - loss: 0.4292 - val_accuracy: 0.8126 - val_loss: 0.4079\n",
            "Epoch 20/20\n",
            "79/79 - 8s - 104ms/step - accuracy: 0.8027 - loss: 0.4205 - val_accuracy: 0.8080 - val_loss: 0.4096\n",
            "Restoring model weights from the end of the best epoch: 19.\n",
            "Best Validation Accuracy in this run: 0.8166\n",
            "\n",
            "Training model with dense_units=32, optimizer=rmsprop, batch_size=512\n",
            "Epoch 1/20\n",
            "40/40 - 17s - 419ms/step - accuracy: 0.5053 - loss: 0.6930 - val_accuracy: 0.5424 - val_loss: 0.6926\n",
            "Epoch 2/20\n",
            "40/40 - 14s - 342ms/step - accuracy: 0.5295 - loss: 0.6926 - val_accuracy: 0.5644 - val_loss: 0.6920\n",
            "Epoch 3/20\n",
            "40/40 - 8s - 210ms/step - accuracy: 0.5523 - loss: 0.6919 - val_accuracy: 0.5768 - val_loss: 0.6911\n",
            "Epoch 4/20\n",
            "40/40 - 8s - 210ms/step - accuracy: 0.5720 - loss: 0.6908 - val_accuracy: 0.5936 - val_loss: 0.6896\n",
            "Epoch 5/20\n",
            "40/40 - 10s - 260ms/step - accuracy: 0.5919 - loss: 0.6892 - val_accuracy: 0.6044 - val_loss: 0.6874\n",
            "Epoch 6/20\n",
            "40/40 - 8s - 212ms/step - accuracy: 0.6049 - loss: 0.6865 - val_accuracy: 0.6132 - val_loss: 0.6839\n",
            "Epoch 7/20\n",
            "40/40 - 10s - 257ms/step - accuracy: 0.6175 - loss: 0.6824 - val_accuracy: 0.6234 - val_loss: 0.6786\n",
            "Epoch 8/20\n",
            "40/40 - 8s - 212ms/step - accuracy: 0.6313 - loss: 0.6759 - val_accuracy: 0.6384 - val_loss: 0.6708\n",
            "Epoch 9/20\n",
            "40/40 - 10s - 258ms/step - accuracy: 0.6446 - loss: 0.6671 - val_accuracy: 0.6538 - val_loss: 0.6608\n",
            "Epoch 10/20\n",
            "40/40 - 10s - 253ms/step - accuracy: 0.6597 - loss: 0.6558 - val_accuracy: 0.6692 - val_loss: 0.6483\n",
            "Epoch 11/20\n",
            "40/40 - 10s - 257ms/step - accuracy: 0.6734 - loss: 0.6421 - val_accuracy: 0.6826 - val_loss: 0.6333\n",
            "Epoch 12/20\n",
            "40/40 - 10s - 253ms/step - accuracy: 0.6875 - loss: 0.6266 - val_accuracy: 0.7068 - val_loss: 0.6162\n",
            "Epoch 13/20\n",
            "40/40 - 10s - 258ms/step - accuracy: 0.6891 - loss: 0.6135 - val_accuracy: 0.7220 - val_loss: 0.5993\n",
            "Epoch 14/20\n",
            "40/40 - 10s - 256ms/step - accuracy: 0.6837 - loss: 0.6061 - val_accuracy: 0.7398 - val_loss: 0.5848\n",
            "Epoch 15/20\n",
            "40/40 - 8s - 209ms/step - accuracy: 0.6877 - loss: 0.5986 - val_accuracy: 0.7524 - val_loss: 0.5715\n",
            "Epoch 16/20\n",
            "40/40 - 10s - 258ms/step - accuracy: 0.6937 - loss: 0.5913 - val_accuracy: 0.7600 - val_loss: 0.5602\n",
            "Epoch 17/20\n",
            "40/40 - 8s - 210ms/step - accuracy: 0.7046 - loss: 0.5807 - val_accuracy: 0.7660 - val_loss: 0.5500\n",
            "Epoch 18/20\n",
            "40/40 - 8s - 209ms/step - accuracy: 0.7140 - loss: 0.5665 - val_accuracy: 0.7396 - val_loss: 0.5450\n",
            "Epoch 19/20\n",
            "40/40 - 10s - 259ms/step - accuracy: 0.7133 - loss: 0.5605 - val_accuracy: 0.7446 - val_loss: 0.5359\n",
            "Epoch 20/20\n",
            "40/40 - 8s - 209ms/step - accuracy: 0.7183 - loss: 0.5513 - val_accuracy: 0.7550 - val_loss: 0.5262\n",
            "Restoring model weights from the end of the best epoch: 20.\n",
            "Best Validation Accuracy in this run: 0.7660\n"
          ]
        }
      ],
      "source": [
        "# Model builder\n",
        "def create_model(embed_dim=16, dense_units=16, optimizer='adam'):\n",
        "    model = models.Sequential([\n",
        "        layers.Embedding(VOCAB_SIZE, embed_dim, input_length=MAXLEN),\n",
        "        layers.GlobalAveragePooling1D(),\n",
        "        layers.Dense(dense_units, activation='relu'),\n",
        "        layers.Dense(1, activation='sigmoid')\n",
        "    ])\n",
        "    model.compile(optimizer=optimizer, loss='binary_crossentropy', metrics=['accuracy'])\n",
        "    return model\n",
        "\n",
        "# Early stopping\n",
        "early_stopping = EarlyStopping(monitor='val_loss', patience=3, restore_best_weights=True, verbose=2)\n",
        "\n",
        "# Hyperparameter search space\n",
        "dense_units_list = [16, 32]\n",
        "optimizer_list = ['adam', 'rmsprop']\n",
        "batch_size_list = [256, 512]\n",
        "\n",
        "best_accuracy = 0\n",
        "best_params = {}\n",
        "results_table = []\n",
        "\n",
        "# Grid search done manually because the function was giving a lot of error\n",
        "for dense_units in dense_units_list:\n",
        "    for optimizer in optimizer_list:\n",
        "        for batch_size in batch_size_list:\n",
        "            print(f\"\\nTraining model with dense_units={dense_units}, optimizer={optimizer}, batch_size={batch_size}\")\n",
        "            model = create_model(dense_units=dense_units, optimizer=optimizer)\n",
        "            history = model.fit(\n",
        "                train_data,\n",
        "                train_labels,\n",
        "                epochs=20,\n",
        "                batch_size=batch_size,\n",
        "                validation_data=(val_data, val_labels),\n",
        "                callbacks=[early_stopping],\n",
        "                verbose=2\n",
        "            )\n",
        "            best_val_acc = max(history.history['val_accuracy'])\n",
        "            print(f\"Best Validation Accuracy in this run: {best_val_acc:.4f}\")\n",
        "            results_table.append({\n",
        "                'dense_units': dense_units,\n",
        "                'optimizer': optimizer,\n",
        "                'batch_size': batch_size,\n",
        "                'val_accuracy': best_val_acc\n",
        "            })\n",
        "            if best_val_acc > best_accuracy:\n",
        "                best_accuracy = best_val_acc\n",
        "                best_params = {\n",
        "                    'dense_units': dense_units,\n",
        "                    'optimizer': optimizer,\n",
        "                    'batch_size': batch_size\n",
        "                }\n",
        "\n"
      ]
    },
    {
      "cell_type": "markdown",
      "id": "2CO6GSr2tmGd",
      "metadata": {
        "id": "2CO6GSr2tmGd"
      },
      "source": [
        "Results:"
      ]
    },
    {
      "cell_type": "code",
      "execution_count": 29,
      "id": "XibfxH7Dtg0_",
      "metadata": {
        "colab": {
          "base_uri": "https://localhost:8080/"
        },
        "id": "XibfxH7Dtg0_",
        "outputId": "e3565d5c-e039-46a7-82a9-89181af03442"
      },
      "outputs": [
        {
          "name": "stdout",
          "output_type": "stream",
          "text": [
            "\n",
            "Best Validation Accuracy: 0.8884\n",
            "Best Parameters: {'dense_units': 16, 'optimizer': 'adam', 'batch_size': 256}\n",
            "\n",
            "Grid Search Results (sorted):\n",
            "   dense_units optimizer  batch_size  val_accuracy\n",
            "0           16      adam         256        0.8884\n",
            "5           32      adam         512        0.8882\n",
            "1           16      adam         512        0.8868\n",
            "4           32      adam         256        0.8842\n",
            "6           32   rmsprop         256        0.8166\n",
            "2           16   rmsprop         256        0.7886\n",
            "3           16   rmsprop         512        0.7762\n",
            "7           32   rmsprop         512        0.7660\n"
          ]
        }
      ],
      "source": [
        "# Print best result\n",
        "print(f\"\\nBest Validation Accuracy: {best_accuracy:.4f}\")\n",
        "print(f\"Best Parameters: {best_params}\")\n",
        "\n",
        "# Summary table of grid Search\n",
        "df_results = pd.DataFrame(results_table)\n",
        "print(\"\\nGrid Search Results (sorted):\")\n",
        "print(df_results.sort_values(by='val_accuracy', ascending=False))"
      ]
    },
    {
      "cell_type": "markdown",
      "id": "001f4cfe",
      "metadata": {
        "id": "001f4cfe"
      },
      "source": [
        "  -------------------------\n",
        "  5. Evaluate Best Model\n",
        "  -------------------------"
      ]
    },
    {
      "cell_type": "code",
      "execution_count": 41,
      "id": "3dab74e9",
      "metadata": {
        "colab": {
          "base_uri": "https://localhost:8080/"
        },
        "id": "3dab74e9",
        "outputId": "99576d6e-b161-4823-8763-6f17841d34f3"
      },
      "outputs": [
        {
          "name": "stdout",
          "output_type": "stream",
          "text": [
            "Epoch 1/20\n"
          ]
        },
        {
          "name": "stderr",
          "output_type": "stream",
          "text": [
            "/usr/local/lib/python3.11/dist-packages/keras/src/layers/core/embedding.py:90: UserWarning: Argument `input_length` is deprecated. Just remove it.\n",
            "  warnings.warn(\n"
          ]
        },
        {
          "name": "stdout",
          "output_type": "stream",
          "text": [
            "\u001b[1m63/63\u001b[0m \u001b[32m━━━━━━━━━━━━━━━━━━━━\u001b[0m\u001b[37m\u001b[0m \u001b[1m3s\u001b[0m 23ms/step - accuracy: 0.5609 - loss: 0.6905 - val_accuracy: 0.6447 - val_loss: 0.6735\n",
            "Epoch 2/20\n",
            "\u001b[1m63/63\u001b[0m \u001b[32m━━━━━━━━━━━━━━━━━━━━\u001b[0m\u001b[37m\u001b[0m \u001b[1m1s\u001b[0m 4ms/step - accuracy: 0.7209 - loss: 0.6572 - val_accuracy: 0.7140 - val_loss: 0.6108\n",
            "Epoch 3/20\n",
            "\u001b[1m63/63\u001b[0m \u001b[32m━━━━━━━━━━━━━━━━━━━━\u001b[0m\u001b[37m\u001b[0m \u001b[1m0s\u001b[0m 4ms/step - accuracy: 0.7799 - loss: 0.5770 - val_accuracy: 0.7977 - val_loss: 0.5136\n",
            "Epoch 4/20\n",
            "\u001b[1m63/63\u001b[0m \u001b[32m━━━━━━━━━━━━━━━━━━━━\u001b[0m\u001b[37m\u001b[0m \u001b[1m0s\u001b[0m 4ms/step - accuracy: 0.8285 - loss: 0.4760 - val_accuracy: 0.8273 - val_loss: 0.4369\n",
            "Epoch 5/20\n",
            "\u001b[1m63/63\u001b[0m \u001b[32m━━━━━━━━━━━━━━━━━━━━\u001b[0m\u001b[37m\u001b[0m \u001b[1m0s\u001b[0m 4ms/step - accuracy: 0.8528 - loss: 0.3981 - val_accuracy: 0.8470 - val_loss: 0.3870\n",
            "Epoch 6/20\n",
            "\u001b[1m63/63\u001b[0m \u001b[32m━━━━━━━━━━━━━━━━━━━━\u001b[0m\u001b[37m\u001b[0m \u001b[1m0s\u001b[0m 4ms/step - accuracy: 0.8753 - loss: 0.3455 - val_accuracy: 0.8553 - val_loss: 0.3581\n",
            "Epoch 7/20\n",
            "\u001b[1m63/63\u001b[0m \u001b[32m━━━━━━━━━━━━━━━━━━━━\u001b[0m\u001b[37m\u001b[0m \u001b[1m0s\u001b[0m 4ms/step - accuracy: 0.8866 - loss: 0.3097 - val_accuracy: 0.8595 - val_loss: 0.3401\n",
            "Epoch 8/20\n",
            "\u001b[1m63/63\u001b[0m \u001b[32m━━━━━━━━━━━━━━━━━━━━\u001b[0m\u001b[37m\u001b[0m \u001b[1m0s\u001b[0m 4ms/step - accuracy: 0.8953 - loss: 0.2829 - val_accuracy: 0.8645 - val_loss: 0.3271\n",
            "Epoch 9/20\n",
            "\u001b[1m63/63\u001b[0m \u001b[32m━━━━━━━━━━━━━━━━━━━━\u001b[0m\u001b[37m\u001b[0m \u001b[1m0s\u001b[0m 4ms/step - accuracy: 0.9045 - loss: 0.2614 - val_accuracy: 0.8673 - val_loss: 0.3170\n",
            "Epoch 10/20\n",
            "\u001b[1m63/63\u001b[0m \u001b[32m━━━━━━━━━━━━━━━━━━━━\u001b[0m\u001b[37m\u001b[0m \u001b[1m0s\u001b[0m 4ms/step - accuracy: 0.9108 - loss: 0.2434 - val_accuracy: 0.8708 - val_loss: 0.3090\n",
            "Epoch 11/20\n",
            "\u001b[1m63/63\u001b[0m \u001b[32m━━━━━━━━━━━━━━━━━━━━\u001b[0m\u001b[37m\u001b[0m \u001b[1m0s\u001b[0m 4ms/step - accuracy: 0.9177 - loss: 0.2279 - val_accuracy: 0.8720 - val_loss: 0.3025\n",
            "Epoch 12/20\n",
            "\u001b[1m63/63\u001b[0m \u001b[32m━━━━━━━━━━━━━━━━━━━━\u001b[0m\u001b[37m\u001b[0m \u001b[1m0s\u001b[0m 4ms/step - accuracy: 0.9233 - loss: 0.2142 - val_accuracy: 0.8742 - val_loss: 0.2973\n",
            "Epoch 13/20\n",
            "\u001b[1m63/63\u001b[0m \u001b[32m━━━━━━━━━━━━━━━━━━━━\u001b[0m\u001b[37m\u001b[0m \u001b[1m0s\u001b[0m 4ms/step - accuracy: 0.9294 - loss: 0.2021 - val_accuracy: 0.8763 - val_loss: 0.2932\n",
            "Epoch 14/20\n",
            "\u001b[1m63/63\u001b[0m \u001b[32m━━━━━━━━━━━━━━━━━━━━\u001b[0m\u001b[37m\u001b[0m \u001b[1m0s\u001b[0m 4ms/step - accuracy: 0.9331 - loss: 0.1911 - val_accuracy: 0.8770 - val_loss: 0.2902\n",
            "Epoch 15/20\n",
            "\u001b[1m63/63\u001b[0m \u001b[32m━━━━━━━━━━━━━━━━━━━━\u001b[0m\u001b[37m\u001b[0m \u001b[1m0s\u001b[0m 4ms/step - accuracy: 0.9364 - loss: 0.1811 - val_accuracy: 0.8813 - val_loss: 0.2883\n",
            "Epoch 16/20\n",
            "\u001b[1m63/63\u001b[0m \u001b[32m━━━━━━━━━━━━━━━━━━━━\u001b[0m\u001b[37m\u001b[0m \u001b[1m0s\u001b[0m 4ms/step - accuracy: 0.9402 - loss: 0.1719 - val_accuracy: 0.8810 - val_loss: 0.2873\n",
            "Epoch 17/20\n",
            "\u001b[1m63/63\u001b[0m \u001b[32m━━━━━━━━━━━━━━━━━━━━\u001b[0m\u001b[37m\u001b[0m \u001b[1m0s\u001b[0m 4ms/step - accuracy: 0.9441 - loss: 0.1633 - val_accuracy: 0.8813 - val_loss: 0.2872\n",
            "Epoch 18/20\n",
            "\u001b[1m63/63\u001b[0m \u001b[32m━━━━━━━━━━━━━━━━━━━━\u001b[0m\u001b[37m\u001b[0m \u001b[1m0s\u001b[0m 4ms/step - accuracy: 0.9481 - loss: 0.1553 - val_accuracy: 0.8835 - val_loss: 0.2878\n",
            "Epoch 19/20\n",
            "\u001b[1m63/63\u001b[0m \u001b[32m━━━━━━━━━━━━━━━━━━━━\u001b[0m\u001b[37m\u001b[0m \u001b[1m0s\u001b[0m 4ms/step - accuracy: 0.9523 - loss: 0.1478 - val_accuracy: 0.8848 - val_loss: 0.2891\n",
            "Epoch 20/20\n",
            "\u001b[1m63/63\u001b[0m \u001b[32m━━━━━━━━━━━━━━━━━━━━\u001b[0m\u001b[37m\u001b[0m \u001b[1m0s\u001b[0m 4ms/step - accuracy: 0.9553 - loss: 0.1408 - val_accuracy: 0.8840 - val_loss: 0.2910\n",
            "Epoch 20: early stopping\n",
            "Restoring model weights from the end of the best epoch: 17.\n",
            "Best model saved to best_model.keras\n",
            "Best model saved to best_model.h5\n",
            "\n",
            "Test Accuracy: 0.8786\n",
            "\u001b[1m782/782\u001b[0m \u001b[32m━━━━━━━━━━━━━━━━━━━━\u001b[0m\u001b[37m\u001b[0m \u001b[1m1s\u001b[0m 1ms/step\n",
            "\n",
            "Classification Report:\n",
            "              precision    recall  f1-score   support\n",
            "\n",
            "           0       0.87      0.89      0.88     12500\n",
            "           1       0.88      0.87      0.88     12500\n",
            "\n",
            "    accuracy                           0.88     25000\n",
            "   macro avg       0.88      0.88      0.88     25000\n",
            "weighted avg       0.88      0.88      0.88     25000\n",
            "\n"
          ]
        }
      ],
      "source": [
        "# Train final model\n",
        "best_model = create_model(\n",
        "    dense_units=best_params['dense_units'],\n",
        "    optimizer=best_params['optimizer']\n",
        ")\n",
        "final_history = best_model.fit(\n",
        "    train_data,\n",
        "    train_labels,\n",
        "    epochs=20,\n",
        "    batch_size=best_params['batch_size'],\n",
        "    validation_split=0.2,\n",
        "    callbacks=[early_stopping],\n",
        "    verbose=1\n",
        ")\n",
        "best_model.save('best_model.keras')\n",
        "print(\"Best model saved to best_model.keras\")\n",
        "print(f\"Best model saved to {best_model_path}\")\n",
        "# Evaluate on test set\n",
        "test_loss, test_acc = best_model.evaluate(test_data, test_labels, verbose=0)\n",
        "print(f\"\\nTest Accuracy: {test_acc:.4f}\")\n",
        "\n",
        "# Predictions and evaluation\n",
        "predictions = (best_model.predict(test_data) > 0.5).astype('int32')\n",
        "print(\"\\nClassification Report:\")\n",
        "print(classification_report(test_labels, predictions))"
      ]
    },
    {
      "cell_type": "markdown",
      "id": "2b6ee225",
      "metadata": {},
      "source": [
        "Some Examples of using the model to classify reviews:"
      ]
    },
    {
      "cell_type": "code",
      "execution_count": null,
      "id": "Plmw3rxPvQbK",
      "metadata": {
        "colab": {
          "base_uri": "https://localhost:8080/"
        },
        "id": "Plmw3rxPvQbK",
        "outputId": "6d560567-76fe-4d4c-a9ab-a89220cf4410"
      },
      "outputs": [
        {
          "name": "stdout",
          "output_type": "stream",
          "text": [
            "\u001b[1m1/1\u001b[0m \u001b[32m━━━━━━━━━━━━━━━━━━━━\u001b[0m\u001b[37m\u001b[0m \u001b[1m0s\u001b[0m 254ms/step\n",
            "\n",
            "Review 1: This movie was really amazing and I loved the acting!\n",
            "Predicted Sentiment: Positive (Confidence: 0.71)\n",
            "\u001b[1m1/1\u001b[0m \u001b[32m━━━━━━━━━━━━━━━━━━━━\u001b[0m\u001b[37m\u001b[0m \u001b[1m0s\u001b[0m 34ms/step\n",
            "\n",
            "Review 2: The plot was boring and I fell asleep halfway through.\n",
            "Predicted Sentiment: Negative (Confidence: 0.09)\n",
            "\u001b[1m1/1\u001b[0m \u001b[32m━━━━━━━━━━━━━━━━━━━━\u001b[0m\u001b[37m\u001b[0m \u001b[1m0s\u001b[0m 35ms/step\n",
            "\n",
            "Review 3: It had some good moments, but overall it was disappointing.\n",
            "Predicted Sentiment: Positive (Confidence: 0.53)\n",
            "\u001b[1m1/1\u001b[0m \u001b[32m━━━━━━━━━━━━━━━━━━━━\u001b[0m\u001b[37m\u001b[0m \u001b[1m0s\u001b[0m 35ms/step\n",
            "\n",
            "Review 4: Absolutely fantastic! Best film I’ve seen in a while, Amazing\n",
            "Predicted Sentiment: Positive (Confidence: 0.71)\n"
          ]
        }
      ],
      "source": [
        "#testing the model on real input:\n",
        "def review_to_sequence(review, word_index, maxlen=256):\n",
        "    review = review.lower().split()\n",
        "    encoded = [word_index.get(word, 2) + 3 for word in review if word in word_index]\n",
        "    return pad_sequences([encoded], maxlen=maxlen)\n",
        "\n",
        "\n",
        "word_index = imdb.get_word_index()\n",
        "\n",
        "# Example 1\n",
        "custom_review1 = \"This movie was really amazing and I loved the acting!\"\n",
        "input_seq1 = review_to_sequence(custom_review1, word_index)\n",
        "prediction1 = best_model.predict(input_seq1)[0][0]\n",
        "print(f\"\\nReview 1: {custom_review1}\")\n",
        "print(f\"Predicted Sentiment: {'Positive' if prediction1 > 0.5 else 'Negative'} (Confidence: {prediction1:.2f})\")\n",
        "\n",
        "# Example 2\n",
        "custom_review2 = \"The plot was boring and I fell asleep halfway through.\"\n",
        "input_seq2 = review_to_sequence(custom_review2, word_index)\n",
        "prediction2 = best_model.predict(input_seq2)[0][0]\n",
        "print(f\"\\nReview 2: {custom_review2}\")\n",
        "print(f\"Predicted Sentiment: {'Positive' if prediction2 > 0.5 else 'Negative'} (Confidence: {prediction2:.2f})\")\n",
        "\n",
        "# Example 3\n",
        "custom_review3 = \"It had some good moments, but overall it was disappointing.\"\n",
        "input_seq3 = review_to_sequence(custom_review3, word_index)\n",
        "prediction3 = best_model.predict(input_seq3)[0][0]\n",
        "print(f\"\\nReview 3: {custom_review3}\")\n",
        "print(f\"Predicted Sentiment: {'Positive' if prediction3 > 0.5 else 'Negative'} (Confidence: {prediction3:.2f})\")\n",
        "\n",
        "# Example 4\n",
        "custom_review4 = \"Absolutely fantastic! Best film I’ve seen in a while, Amazing\"\n",
        "input_seq4 = review_to_sequence(custom_review4, word_index)\n",
        "prediction4 = best_model.predict(input_seq4)[0][0]\n",
        "print(f\"\\nReview 4: {custom_review4}\")\n",
        "print(f\"Predicted Sentiment: {'Positive' if prediction4 > 0.5 else 'Negative'} (Confidence: {prediction4:.2f})\")"
      ]
    },
    {
      "cell_type": "markdown",
      "id": "143f7cd2",
      "metadata": {
        "id": "143f7cd2"
      },
      "source": [
        " -------------------------\n",
        " 6. CONFUSION MATRIX\n",
        " -------------------------"
      ]
    },
    {
      "cell_type": "code",
      "execution_count": 62,
      "id": "f9dfa5c0",
      "metadata": {
        "colab": {
          "base_uri": "https://localhost:8080/",
          "height": 472
        },
        "id": "f9dfa5c0",
        "outputId": "8dfe29b9-4e26-467a-9539-bc8265195889"
      },
      "outputs": [
        {
          "data": {
            "image/png": "[encoded data removed]",
            "text/plain": [
              "<Figure size 640x480 with 2 Axes>"
            ]
          },
          "metadata": {},
          "output_type": "display_data"
        }
      ],
      "source": [
        "cm = confusion_matrix(test_labels, predictions)\n",
        "ConfusionMatrixDisplay(cm, display_labels=['Neg', 'Pos']).plot(cmap='Reds')\n",
        "plt.title(\"Confusion Matrix\")\n",
        "plt.show()"
      ]
    },
    {
      "cell_type": "markdown",
      "id": "26a5ae22",
      "metadata": {
        "id": "26a5ae22"
      },
      "source": [
        "  -------------------------\n",
        "  7. VISUALIZATION\n",
        "  -------------------------"
      ]
    },
    {
      "cell_type": "code",
      "execution_count": 63,
      "id": "e918b027",
      "metadata": {
        "colab": {
          "base_uri": "https://localhost:8080/",
          "height": 502
        },
        "id": "e918b027",
        "outputId": "3fd8372c-3b82-47cd-d99f-b0c020b466bd"
      },
      "outputs": [
        {
          "data": {
            "image/png": "[encoded data removed]",
            "text/plain": [
              "<Figure size 1200x500 with 2 Axes>"
            ]
          },
          "metadata": {},
          "output_type": "display_data"
        }
      ],
      "source": [
        "# Plot loss and accuracy curves\n",
        "history = final_history.history\n",
        "plt.figure(figsize=(12, 5))\n",
        "\n",
        "# Loss\n",
        "plt.subplot(1, 2, 1)\n",
        "plt.plot(history['loss'], label='Training Loss')\n",
        "plt.plot(history['val_loss'], label='Validation Loss')\n",
        "plt.title('Loss Curve')\n",
        "plt.xlabel('Epochs')\n",
        "plt.ylabel('Loss')\n",
        "plt.legend()\n",
        "\n",
        "# Accuracy\n",
        "plt.subplot(1, 2, 2)\n",
        "plt.plot(history['accuracy'], label='Training Accuracy')\n",
        "plt.plot(history['val_accuracy'], label='Validation Accuracy')\n",
        "plt.title('Accuracy Curve')\n",
        "plt.xlabel('Epochs')\n",
        "plt.ylabel('Accuracy')\n",
        "plt.legend()\n",
        "\n",
        "plt.tight_layout()\n",
        "plt.show()"
      ]
    },
    {
      "cell_type": "markdown",
      "id": "dda6642b",
      "metadata": {
        "id": "dda6642b"
      },
      "source": [
        "  -------------------------\n",
        "  8. BASELINE COMPARISON\n",
        "  -------------------------"
      ]
    },
    {
      "cell_type": "code",
      "execution_count": 64,
      "id": "a81a635e",
      "metadata": {
        "colab": {
          "base_uri": "https://localhost:8080/"
        },
        "id": "a81a635e",
        "outputId": "9d40b454-88c2-4b40-adbd-999bb380e42d"
      },
      "outputs": [
        {
          "name": "stdout",
          "output_type": "stream",
          "text": [
            "\n",
            "Logistic Regression Report:\n",
            "              precision    recall  f1-score   support\n",
            "\n",
            "           0       0.86      0.84      0.85       526\n",
            "           1       0.83      0.85      0.84       474\n",
            "\n",
            "    accuracy                           0.84      1000\n",
            "   macro avg       0.84      0.85      0.84      1000\n",
            "weighted avg       0.85      0.84      0.85      1000\n",
            "\n"
          ]
        },
        {
          "name": "stderr",
          "output_type": "stream",
          "text": [
            "/usr/local/lib/python3.11/dist-packages/sklearn/linear_model/_logistic.py:465: ConvergenceWarning: lbfgs failed to converge (status=1):\n",
            "STOP: TOTAL NO. OF ITERATIONS REACHED LIMIT.\n",
            "\n",
            "Increase the number of iterations (max_iter) or scale the data as shown in:\n",
            "    https://scikit-learn.org/stable/modules/preprocessing.html\n",
            "Please also refer to the documentation for alternative solver options:\n",
            "    https://scikit-learn.org/stable/modules/linear_model.html#logistic-regression\n",
            "  n_iter_i = _check_optimize_result(\n"
          ]
        }
      ],
      "source": [
        "# Decode reviews for logistic regression\n",
        "word_index = imdb.get_word_index()\n",
        "reverse_word_index = dict((value, key) for (key, value) in word_index.items())\n",
        "\n",
        "def decode_review(encoded):\n",
        "    return ' '.join([reverse_word_index.get(i - 3, '?') for i in encoded])\n",
        "\n",
        "raw_train = [decode_review(x) for x in train_data[:5000]]\n",
        "raw_labels = train_labels[:5000]\n",
        "raw_test = [decode_review(x) for x in test_data[:1000]]\n",
        "raw_test_labels = test_labels[:1000]\n",
        "\n",
        "# Vectorize and train logistic regression\n",
        "vec = CountVectorizer(max_features=10000)\n",
        "X_train_vec = vec.fit_transform(raw_train)\n",
        "X_test_vec = vec.transform(raw_test)\n",
        "\n",
        "logreg = LogisticRegression(max_iter=200)\n",
        "logreg.fit(X_train_vec, raw_labels)\n",
        "log_preds = logreg.predict(X_test_vec)\n",
        "\n",
        "print(\"\\nLogistic Regression Report:\")\n",
        "print(classification_report(raw_test_labels, log_preds))"
      ]
    },
    {
      "cell_type": "markdown",
      "id": "GHQL-dEn7Nmz",
      "metadata": {
        "id": "GHQL-dEn7Nmz"
      },
      "source": [
        "  -------------------------\n",
        "  9. Exploring other models\n",
        "  -------------------------"
      ]
    },
    {
      "cell_type": "markdown",
      "id": "BVpKhiIX6IDC",
      "metadata": {
        "id": "BVpKhiIX6IDC"
      },
      "source": [
        "Naive Bayes :"
      ]
    },
    {
      "cell_type": "code",
      "execution_count": 48,
      "id": "Lhp3F3dw6PMS",
      "metadata": {
        "colab": {
          "base_uri": "https://localhost:8080/"
        },
        "id": "Lhp3F3dw6PMS",
        "outputId": "99f69951-fe19-4b57-d031-97c6321c0d00"
      },
      "outputs": [
        {
          "name": "stdout",
          "output_type": "stream",
          "text": [
            "\n",
            "Naive Bayes Report:\n",
            "              precision    recall  f1-score   support\n",
            "\n",
            "           0       0.84      0.86      0.85       526\n",
            "           1       0.84      0.81      0.82       474\n",
            "\n",
            "    accuracy                           0.84      1000\n",
            "   macro avg       0.84      0.83      0.84      1000\n",
            "weighted avg       0.84      0.84      0.84      1000\n",
            "\n"
          ]
        }
      ],
      "source": [
        "naive_bayes = MultinomialNB()\n",
        "naive_bayes.fit(X_train_vec, raw_labels)\n",
        "\n",
        "# Make predictions\n",
        "nb_preds = naive_bayes.predict(X_test_vec)\n",
        "\n",
        "# Print classification report\n",
        "print(\"\\nNaive Bayes Report:\")\n",
        "print(classification_report(raw_test_labels, nb_preds))\n"
      ]
    },
    {
      "cell_type": "markdown",
      "id": "w7TMPZf47Z7l",
      "metadata": {
        "id": "w7TMPZf47Z7l"
      },
      "source": [
        "Decision Tree :"
      ]
    },
    {
      "cell_type": "code",
      "execution_count": 57,
      "id": "RUksNM5q7dnR",
      "metadata": {
        "colab": {
          "base_uri": "https://localhost:8080/"
        },
        "id": "RUksNM5q7dnR",
        "outputId": "9f9b386e-5653-404c-fc98-bd773695568f"
      },
      "outputs": [
        {
          "name": "stdout",
          "output_type": "stream",
          "text": [
            "\n",
            "Decision Tree  Report:\n",
            "              precision    recall  f1-score   support\n",
            "\n",
            "           0       0.75      0.71      0.73       526\n",
            "           1       0.69      0.73      0.71       474\n",
            "\n",
            "    accuracy                           0.72      1000\n",
            "   macro avg       0.72      0.72      0.72      1000\n",
            "weighted avg       0.72      0.72      0.72      1000\n",
            "\n"
          ]
        }
      ],
      "source": [
        "dtree = DecisionTreeClassifier(random_state=42)\n",
        "dtree.fit(X_train_vec, raw_labels)\n",
        "dtree_preds = dtree.predict(X_test_vec)\n",
        "dtree_accuracy = accuracy_score(raw_test_labels, dtree_preds)\n",
        "\n",
        "print(\"\\nDecision Tree  Report:\")\n",
        "print(classification_report(raw_test_labels, dtree_preds))"
      ]
    },
    {
      "cell_type": "markdown",
      "id": "xOcBiK6l8BM5",
      "metadata": {
        "id": "xOcBiK6l8BM5"
      },
      "source": [
        "Comparing the accuracy using the Chart:"
      ]
    },
    {
      "cell_type": "code",
      "execution_count": 65,
      "id": "IGMuU5n8novk",
      "metadata": {
        "colab": {
          "base_uri": "https://localhost:8080/",
          "height": 391
        },
        "id": "IGMuU5n8novk",
        "outputId": "44b05700-0d5b-4fc1-a4e9-b1e5f8f529cd"
      },
      "outputs": [
        {
          "data": {
            "image/png": "[encoded data removed]",
            "text/plain": [
              "<Figure size 600x400 with 1 Axes>"
            ]
          },
          "metadata": {},
          "output_type": "display_data"
        }
      ],
      "source": [
        "\n",
        "nn_accuracy = test_acc\n",
        "logreg_accuracy = logreg.score(X_test_vec, raw_test_labels)\n",
        "nb_accuracy = naive_bayes.score(X_test_vec, raw_test_labels)\n",
        "\n",
        "\n",
        "plt.figure(figsize=(6, 4))\n",
        "plt.bar(['Neural Network', 'Logistic Regression', 'Naive Bayes', 'Decision Tree'],\n",
        "        [nn_accuracy, logreg_accuracy, nb_accuracy, dtree_accuracy],\n",
        "        color=['skyblue', 'salmon', 'lightgreen', 'orange'])\n",
        "plt.title('Model Comparison: Accuracy on Test Set')\n",
        "plt.ylabel('Accuracy')\n",
        "plt.ylim(0, 1)\n",
        "plt.grid(axis='y')\n",
        "plt.show()\n"
      ]
    },
    {
      "cell_type": "markdown",
      "id": "b40764b8",
      "metadata": {
        "id": "b40764b8"
      },
      "source": [
        " -------------------------\n",
        " 10. SUMMARY\n",
        " -------------------------\n"
      ]
    },
    {
      "cell_type": "code",
      "execution_count": 60,
      "id": "b4f4ca3f",
      "metadata": {
        "colab": {
          "base_uri": "https://localhost:8080/"
        },
        "id": "b4f4ca3f",
        "outputId": "dec9c718-1c6d-4fd9-ed70-2b64baf5b4d3"
      },
      "outputs": [
        {
          "name": "stdout",
          "output_type": "stream",
          "text": [
            "\n",
            "  Summary of Results\n",
            "-----------------------\n",
            "  Best Neural Network Configuration:\n",
            "   • Dense Units   : 16\n",
            "   • Optimizer     : adam\n",
            "   • Batch Size    : 256\n",
            "\n",
            "  Performance:\n",
            "   • Test Accuracy (Neural Network)     : 87.86%\n",
            "   • Test Accuracy (Logistic Regression): 84.50%\n",
            "   • Test Accuracy (Naive Bayes)        : 83.60%\n",
            "   • Test Accuracy (Decision Tree)      : 71.90%\n",
            "\n",
            "  Insights:\n",
            "   • The tuned neural network achieved a performance gain of 3.4% over the logistic regression baseline.\n",
            "   • The decision tree and Naive Bayes also performed reasonably well.\n",
            "   • Deep learning offers superior handling of word embeddings and nonlinear patterns in sentiment classification.\n",
            "\n"
          ]
        }
      ],
      "source": [
        "print(f\"\"\"\n",
        "  Summary of Results\n",
        "-----------------------\n",
        "  Best Neural Network Configuration:\n",
        "   • Dense Units   : {best_params['dense_units']}\n",
        "   • Optimizer     : {best_params['optimizer']}\n",
        "   • Batch Size    : {best_params['batch_size']}\n",
        "\n",
        "  Performance:\n",
        "   • Test Accuracy (Neural Network)     : {test_acc * 100:.2f}%\n",
        "   • Test Accuracy (Logistic Regression): {logreg_accuracy * 100:.2f}%\n",
        "   • Test Accuracy (Naive Bayes)        : {nb_accuracy * 100:.2f}%\n",
        "   • Test Accuracy (Decision Tree)      : {dtree_accuracy * 100:.2f}%\n",
        "\n",
        "  Insights:\n",
        "   • The tuned neural network achieved a performance gain of {(test_acc - logreg_accuracy) * 100:.1f}% over the logistic regression baseline.\n",
        "   • The decision tree and Naive Bayes also performed reasonably well.\n",
        "   • Deep learning offers superior handling of word embeddings and nonlinear patterns in sentiment classification.\n",
        "\"\"\")\n"
      ]
    }
  ],
  "metadata": {
    "accelerator": "GPU",
    "colab": {
      "gpuType": "T4",
      "provenance": []
    },
    "kernelspec": {
      "display_name": "Python 3",
      "name": "python3"
    },
    "language_info": {
      "name": "python"
    }
  },
  "nbformat": 4,
  "nbformat_minor": 5
}
